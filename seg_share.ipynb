{
 "cells": [
  {
   "cell_type": "code",
   "execution_count": 56,
   "metadata": {},
   "outputs": [],
   "source": [
    "import warnings\n",
    "warnings.filterwarnings('ignore')\n",
    "\n",
    "import pandas as pd\n",
    "import numpy as np\n",
    "import matplotlib.pyplot as plt\n",
    "import seaborn as sns\n",
    "import csv\n",
    "from tqdm import tqdm\n",
    "from sqlalchemy import create_engine\n",
    "import datetime\n",
    "\n",
    "import random\n",
    "import scipy.stats"
   ]
  },
  {
   "cell_type": "code",
   "execution_count": 3,
   "metadata": {},
   "outputs": [],
   "source": []
  },
  {
   "cell_type": "code",
   "execution_count": null,
   "metadata": {},
   "outputs": [],
   "source": []
  },
  {
   "cell_type": "markdown",
   "metadata": {},
   "source": [
    "데이터 셋 형태"
   ]
  },
  {
   "cell_type": "code",
   "execution_count": 54,
   "metadata": {},
   "outputs": [],
   "source": [
    "# cust_lst: 고객 정보 e.g., Phone_num\n",
    "# per_lst: 비율 list e.g., [0.3, 0.4, 0.2, 0.1]\n",
    "def _rnd(df, per_lst):\n",
    "    cust_lst = list(df[\"Phone_Number\"])\n",
    "    num_lst = []\n",
    "    rem_num = len(cust_lst)\n",
    "    for i in range(len(per_lst)-1):\n",
    "        tmp_num = round(len(cust_lst)*per_lst[i])\n",
    "        num_lst.append(tmp_num)\n",
    "        rem_num -= tmp_num\n",
    "    num_lst.append(rem_num)\n",
    "    seg_lst = []\n",
    "    \n",
    "    for i in range(len(num_lst)):\n",
    "        tmp_lst = random.sample(cust_lst, num_lst[i])\n",
    "#        print (num_lst[i])\n",
    "        seg_lst.append(tmp_lst)\n",
    "        cust_lst = list(set(cust_lst)-set(tmp_lst))\n",
    "    return seg_lst\n",
    "    "
   ]
  },
  {
   "cell_type": "code",
   "execution_count": 7,
   "metadata": {},
   "outputs": [],
   "source": [
    "def _intersection(lst_1, lst_2):\n",
    "    return (list(set(lst_1)&set(lst_2)))"
   ]
  },
  {
   "cell_type": "code",
   "execution_count": 50,
   "metadata": {},
   "outputs": [],
   "source": [
    "def _check_seg_overlap(seg_lst):\n",
    "    for i in range(len(seg_lst)):\n",
    "        for j in range(i+1, len(seg_lst)):\n",
    "            if len(_intersection(seg_lst[i], seg_lst[j]))>0:\n",
    "                print (\"샘플 중복 발생\")\n",
    "                return True\n",
    "            else:\n",
    "                return False"
   ]
  },
  {
   "cell_type": "code",
   "execution_count": 10,
   "metadata": {},
   "outputs": [],
   "source": [
    "def _df_transform(df):\n",
    "    df_m = df.groupby(\"Phone_Number\").agg({'Quantity_divide':\"sum\", 'Sales_divide': \"sum\",'Orderid':\"nunique\"  }).reset_index().rename(columns={\"Quantity_divide\":\"quantity\", \"Sales_divide\": \"Sales\", \"Orderid\":\"order_count\"})\n",
    "    return df_m"
   ]
  },
  {
   "cell_type": "code",
   "execution_count": 43,
   "metadata": {},
   "outputs": [],
   "source": [
    "def _check_outlier(df, buffer):\n",
    "    col_name = list(df)[1:]\n",
    "    for i in range(len(col_name)):\n",
    "        threshold = np.percentile(df[col_name[i]], float(buffer[i]))\n",
    "        df = df[df[col_name[i]]<=threshold]\n",
    "#        print (threshold)\n",
    "#        print (q1, q3, iqr)\n",
    "#        print (df)\n",
    "#        print (df)\n",
    "    return df"
   ]
  },
  {
   "cell_type": "code",
   "execution_count": 94,
   "metadata": {},
   "outputs": [],
   "source": [
    "def _check_seg_sim(df, seg):\n",
    "    check = True\n",
    "    col_name = list(df)[1:]\n",
    "    for i in range(len(seg)):\n",
    "        for j in range(i, len(seg)):\n",
    "            df_1 = df[df.Phone_Number.isin(seg[i])]\n",
    "            df_2 = df[df.Phone_Number.isin(seg[j])]\n",
    "            for k in range(len(col_name)):\n",
    "                test1 = list(df_1[col_name[k]])\n",
    "                test2 = list(df_2[col_name[k]])\n",
    "                if scipy.stats.ttest_ind(test1, test2, equal_var=True).pvalue < 0.3:\n",
    "                    check = False\n",
    "#                    print (check)\n",
    "                if scipy.stats.f_oneway(test1, test2).pvalue < 0.3:\n",
    "                    check = False \n",
    "    return check"
   ]
  },
  {
   "cell_type": "code",
   "execution_count": 98,
   "metadata": {},
   "outputs": [],
   "source": [
    "df_m = _df_transform(df) \n",
    "df_m = _check_outlier(df_m, [99.9, 99.9, 99.9])\n"
   ]
  },
  {
   "cell_type": "code",
   "execution_count": 113,
   "metadata": {},
   "outputs": [],
   "source": [
    "fin = False\n",
    "i = 0\n",
    "#print (_check_seg_overlap(seg_lst))\n",
    "#print (_check_seg_sim(df_m, seg_lst))\n",
    "\n",
    "while (not fin):\n",
    "    seg_lst = _rnd(df_m, [0.3, 0.3, 0.4])\n",
    "    if _check_seg_overlap(seg_lst)==False:\n",
    "        if _check_seg_sim(df_m, seg_lst)==True:\n",
    "            fin = True"
   ]
  },
  {
   "cell_type": "code",
   "execution_count": 156,
   "metadata": {},
   "outputs": [],
   "source": [
    "def _write_csv(seg):\n",
    "    for i in range(len(seg)):\n",
    "        head = \".\"\n",
    "        tmp_seg = seg[i]\n",
    "        filename = \"seg_%s\" %str(i+1)\n",
    "        with open(\"C:/Users/Echo/Desktop/\" + filename + \".csv\",'w', newline= '') as file :\n",
    "            write = csv.writer(file)\n",
    "            write.writerow(head)\n",
    "            for i in tmp_seg:\n",
    "                print (i)\n",
    "                write.writerow([i])\n",
    "    return 0"
   ]
  },
  {
   "cell_type": "code",
   "execution_count": 146,
   "metadata": {},
   "outputs": [],
   "source": [
    "def _main(df, outlier, percentage):\n",
    "    df_m = _df_transform(df) \n",
    "    df_m = _check_outlier(df_m, outlier)\n",
    "    fin = False\n",
    "    i = 0\n",
    "\n",
    "    while (not fin):\n",
    "        seg_lst = _rnd(df_m, percentage)\n",
    "        if _check_seg_overlap(seg_lst)==False:\n",
    "            if _check_seg_sim(df_m, seg_lst)==True:\n",
    "                fin = True\n",
    "    _write_csv(seg_lst)\n",
    "    return seg_lst\n"
   ]
  },
  {
   "cell_type": "code",
   "execution_count": 154,
   "metadata": {},
   "outputs": [],
   "source": [
    "_main(df, [0.99, 0.99, 0.99], [0.6, 0.2, 0.1, 0.1])"
   ]
  }
 ],
 "metadata": {
  "kernelspec": {
   "display_name": "Python 3.10.5 64-bit (windows store)",
   "language": "python",
   "name": "python3"
  },
  "language_info": {
   "codemirror_mode": {
    "name": "ipython",
    "version": 3
   },
   "file_extension": ".py",
   "mimetype": "text/x-python",
   "name": "python",
   "nbconvert_exporter": "python",
   "pygments_lexer": "ipython3",
   "version": "3.10.5"
  },
  "orig_nbformat": 4,
  "vscode": {
   "interpreter": {
    "hash": "8b2a6856c1feb23975817af06df8f437b723a49e20f4c8689cad06e013da23ff"
   }
  }
 },
 "nbformat": 4,
 "nbformat_minor": 2
}
